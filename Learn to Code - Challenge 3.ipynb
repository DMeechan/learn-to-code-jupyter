{
 "cells": [
  {
   "cell_type": "markdown",
   "metadata": {},
   "source": [
    "<img src=\"https://upload.wikimedia.org/wikipedia/commons/5/51/IBM_logo.svg\" height=\"100\" width=\"150\">\n",
    "# Welcome to Learn to Code Part 2!\n"
   ]
  },
  {
   "cell_type": "markdown",
   "metadata": {},
   "source": [
    "## Lesson 3 - Adding simple logic\n",
    "\n"
   ]
  },
  {
   "cell_type": "markdown",
   "metadata": {},
   "source": [
    "### Decision Making\n",
    "\n",
    "Decision making is anticipation of conditions occurring while execution of the program and specifying actions taken according to the conditions.\n",
    "Decision structures evaluate multiple expressions which produce TRUE or FALSE as outcome. You need to determine which action to take and which statements to execute if outcome is TRUE or FALSE otherwise.\n",
    "Following is the general form of a typical decision making structure found in most of the programming languages −\n",
    "\n",
    "\n",
    "The syntax of the if...else statement is −\n",
    "\n",
    "```\n",
    "if expression:\n",
    "   statement(s)\n",
    "else:\n",
    "   statement(s)\n",
    "```\n",
    "\n",
    "### Breaking out of loops\n",
    "As explained in Challenge 2 you use Loops to…\n",
    "You can break out a the iteration by using the break command\n",
    "Example:"
   ]
  },
  {
   "cell_type": "code",
   "execution_count": 5,
   "metadata": {},
   "outputs": [
    {
     "name": "stdout",
     "output_type": "stream",
     "text": [
      "s\n",
      "t\n",
      "r\n",
      "The end\n"
     ]
    }
   ],
   "source": [
    "for val in \"string\":\n",
    "    if val == \"i\":\n",
    "        break\n",
    "    print(val)\n",
    "    \n",
    "print(\"The end\")"
   ]
  },
  {
   "cell_type": "markdown",
   "metadata": {},
   "source": [
    "## Tutorial – DNA to RNA transcriptor\n",
    "\n",
    "This script converts a sequence in DNA to RNA\n",
    "\n",
    "For example, the sequence \"ATGC\" is converted to \"CGTA\"."
   ]
  },
  {
   "cell_type": "code",
   "execution_count": 6,
   "metadata": {},
   "outputs": [
    {
     "name": "stdout",
     "output_type": "stream",
     "text": [
      "Enter your DNA sequenceATGC\n",
      "Converted RNA sequence is: CGTA\n"
     ]
    }
   ],
   "source": [
    "dna = input(\"Enter your DNA sequence\")\n",
    "\n",
    "lengthStr = len(dna)\n",
    "\n",
    "counter = 0\n",
    "\n",
    "rna = '';\n",
    "\n",
    "while counter < lengthStr: \n",
    "  if dna[counter] == 'A': \n",
    "      letter = 'C'\n",
    "  elif dna[counter] == 'T':\n",
    "        letter = 'G'\n",
    "  elif dna[counter] == 'G':\n",
    "        letter = 'T'\n",
    "  elif dna[counter] == 'C':\n",
    "        letter = 'A'\n",
    "  else: \n",
    "        letter = dna[counter]\n",
    "        \n",
    "  rna = rna + letter\n",
    "  \n",
    "  counter = counter+1\n",
    "  \n",
    "print('Converted RNA sequence is:', rna)\n"
   ]
  },
  {
   "cell_type": "markdown",
   "metadata": {},
   "source": [
    "## Challenge - Simple Cipher\n",
    "\n",
    "This script encrypts a password by converting a letter into the next 2nd letter after it in the alphabet\n",
    "\n"
   ]
  },
  {
   "cell_type": "code",
   "execution_count": 8,
   "metadata": {},
   "outputs": [
    {
     "name": "stdout",
     "output_type": "stream",
     "text": [
      "Enter lowercase character password:hellopython\n",
      "password encryption successful: jgnnqravjqp\n"
     ]
    }
   ],
   "source": [
    "import string\n",
    "\n",
    "msg = input('Enter lowercase character password:')\n",
    "\n",
    "cypher = 'password encryption successful: ' #initialise\n",
    "\n",
    "#creates a alphabet of lowercase ascii characters\n",
    "alphabet = string.ascii_lowercase\n",
    "\n",
    "for letter in msg:\n",
    "    \n",
    "  if letter in string.ascii_lowercase: # check of letter is an alphabetic character in lowercase\n",
    "    \n",
    "    initial_position = alphabet.index(letter) #get initial position of letter in alphabet\n",
    "   \n",
    "    new_position = alphabet.index(letter) + 2 #move to next 2nd position going forward\n",
    "    \n",
    "    new_letter = alphabet[(new_position % 26)] #convert new position to new letter\n",
    "    \n",
    "    cypher = cypher + new_letter \n",
    "\n",
    "  else: # break out of loop if numeric, uppercase or special character\n",
    "    cypher = 'invalid character: ' + letter\n",
    "    break\n",
    "\n",
    "print (cypher)\n"
   ]
  },
  {
   "cell_type": "code",
   "execution_count": null,
   "metadata": {},
   "outputs": [],
   "source": []
  }
 ],
 "metadata": {
  "kernelspec": {
   "display_name": "Python [default]",
   "language": "python",
   "name": "python3"
  },
  "language_info": {
   "codemirror_mode": {
    "name": "ipython",
    "version": 3
   },
   "file_extension": ".py",
   "mimetype": "text/x-python",
   "name": "python",
   "nbconvert_exporter": "python",
   "pygments_lexer": "ipython3",
   "version": "3.6.3"
  }
 },
 "nbformat": 4,
 "nbformat_minor": 2
}
