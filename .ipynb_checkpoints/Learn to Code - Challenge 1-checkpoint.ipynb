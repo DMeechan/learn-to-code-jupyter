{
 "cells": [
  {
   "cell_type": "markdown",
   "metadata": {},
   "source": [
    "<img src=\"https://upload.wikimedia.org/wikipedia/commons/5/51/IBM_logo.svg\" height=\"100\" width=\"150\">\n",
    "# Welcome to Learn to Code!\n"
   ]
  },
  {
   "cell_type": "markdown",
   "metadata": {},
   "source": [
    "### Using this Jupyter Notebook\n",
    "\n",
    "This is Jupyter. Jupyter is a notebook (kind of like Word) which you can run code in. \n",
    "\n",
    "We've set up this notebook with lots of code examples to demonstrate what the tutorial is explaining. \n",
    "\n",
    "Read through the tutorials, edit and experiment with the code, and then run the code and see what happens.\n",
    "\n",
    "To run some code, click your mouse inside that code block (so the block is highlighted with a green border), and then click the 'Run' button at the top of the page. \n",
    "\n",
    "You can also do `SHIFT + ENTER` to run the code. \n",
    "\n",
    "If you accidently click inside a textbox and it goes into edit mode, just do `SHIFT + ENTER` to close it.\n",
    "\n",
    "**Learn to Code** is split into three sections. Each section contains a short lesson, a tutorial, and then a challenge. \n",
    "\n",
    "In the lesson, we'll go over some core concepts and keywords. \n",
    "\n",
    "Next, there's the tutorial. The tutorial shows you how to put into practice what you've learned in the lesson. The tutorials contains an example mini-project (like a VAT calculator), the code which solves the project, and an explanation on how the code works. After going through the lesson content, hopefully you'll understand most things in the tutorial. During the tutorial, we suggest editing and experimenting with the code so you fully understand how each part works. \n",
    "\n",
    "If you're not sure about something, ask one of us around the room or experiment with the code.\n",
    "\n",
    "Once you've gone through a tutorial, there's a challenge. Each challenge is quite similar to the mini-project shown to you in the tutorial. Your goal is to write the code to complete the challenge. \n",
    "\n",
    "When you've written the code and run it to check it works, it's time to test it. Below the challenge, we've written some code to test your mini-projects. Just click on the code and click 'Run' (or do `SHIFT + ENTER`). The test code should then say whether your mini-project has passed or not."
   ]
  },
  {
   "cell_type": "markdown",
   "metadata": {},
   "source": [
    "## Lesson 1\n",
    "\n",
    "### Variables and types\n",
    "\n",
    "In any programming language, we store information in variables. \n",
    "\n",
    "Here are a few example types of information that you might store in a variable:\n",
    "\n",
    "- An **integer** (a number without decimals, e.g. 10)\n",
    "- A **floating point** number (a decimal number e.g. 10.5)\n",
    "- A **string** (a collection of letters e.g. ‘hello world’)\n",
    "- A **boolean** (a true or false value)\n",
    " \n",
    "In Python, here’s what we write to store an **integer** in a **variable**:"
   ]
  },
  {
   "cell_type": "code",
   "execution_count": 1,
   "metadata": {},
   "outputs": [],
   "source": [
    "first_number = 5"
   ]
  },
  {
   "cell_type": "markdown",
   "metadata": {},
   "source": [
    "And here is what we would write to store a **floating point** number (a decimal number) in a variable:\n"
   ]
  },
  {
   "cell_type": "code",
   "execution_count": 5,
   "metadata": {},
   "outputs": [],
   "source": [
    "second_number = 10.5"
   ]
  },
  {
   "cell_type": "markdown",
   "metadata": {},
   "source": [
    "We’ve created two variables in the examples above: *first_number* and *second_number*. You can give the variables any name, but it’s best to use descriptive names so you and others can read your code more easily. \n",
    "\n",
    "Variable names can’t contain spaces, which is why we’ve used underscores instead (like first_name). This is the recommended practice for Python.\n",
    "\n",
    "To print out what is stored in a variable, we use the **print()** function. To do this, type the name of the variable inside the brackets (called parameters), as shown below:\n"
   ]
  },
  {
   "cell_type": "code",
   "execution_count": 10,
   "metadata": {},
   "outputs": [
    {
     "name": "stdout",
     "output_type": "stream",
     "text": [
      "5\n"
     ]
    }
   ],
   "source": [
    "print(first_number)"
   ]
  },
  {
   "cell_type": "markdown",
   "metadata": {},
   "source": [
    "The first line of code stores the number 5 inside a variable called *first_number*. The second line tells the console to print the contents of *first_number* (as shown on the Output line)."
   ]
  },
  {
   "cell_type": "markdown",
   "metadata": {},
   "source": [
    "### Inputs and Simple Maths\n",
    "\n",
    "Along with creating variables, we can also do maths with them. Here are the operators for simple maths:\n",
    " \n",
    "Multiply = *\n",
    "Addition = +\n",
    "Division = /\n",
    "Subtract = -\n",
    "\n",
    "Here’s an example of how we might use these operators:"
   ]
  },
  {
   "cell_type": "code",
   "execution_count": 11,
   "metadata": {},
   "outputs": [
    {
     "name": "stdout",
     "output_type": "stream",
     "text": [
      "40\n",
      "20.0\n"
     ]
    }
   ],
   "source": [
    "number_a = 50\n",
    "number_b = 10\n",
    "number_c = number_a - number_b\n",
    "number_d = number_c / 2\n",
    "print(number_c)\n",
    "print(number_d)"
   ]
  },
  {
   "cell_type": "markdown",
   "metadata": {},
   "source": [
    "The first 2 lines just create variables *number_a* and *number_b*. Lines 3 and 4 do some basic calculations using mathematical operators. Lines 5 and 6 tell the console (at the bottom of the image) to show the contents of variables *number_c and *number_d*.\n",
    "\n",
    "\n",
    "*Fun note: notice how number_c is an integer because its output (40) does not contain a decimal place.*\n",
    "\n",
    "*number_d on the other hand, is 40.0. That decimal point means it's a floating point number.*\n",
    "\n",
    "__*Why is number_d not an integer like number_c?*__\n",
    "\n",
    "*Answer: because number_d is calculated using division: number_c / 2*\n",
    "\n",
    "*Python converts integers to floating point numbers for division.*"
   ]
  },
  {
   "cell_type": "markdown",
   "metadata": {},
   "source": [
    "We’re now able to create variables, assign values to them, and do calculations. But what do we do when we want the user to enter a value? \n",
    "\n",
    "Let’s say we were making a VAT calculator. We first need the user to tell us the base price of the item. Here’s how we get that value from the user:"
   ]
  },
  {
   "cell_type": "code",
   "execution_count": 15,
   "metadata": {},
   "outputs": [
    {
     "name": "stdout",
     "output_type": "stream",
     "text": [
      "Enter the price of the item: 10\n",
      "\n",
      "10\n"
     ]
    }
   ],
   "source": [
    "price = input('Enter the price of the item: ')\n",
    "print('')\n",
    "print(price)"
   ]
  },
  {
   "cell_type": "markdown",
   "metadata": {},
   "source": [
    "The **input()** command in line 1 displays a line which says ‘Enter the price of the item’. The program waits until the user enters something and presses ENTER. I typed in *10* and then clicked the ENTER key. The code then takes my input (10) and stores it inside the *price* variable that I created. \n",
    "\n",
    "Line 2 prints an empty line onto the screen. We’ll explain why you need to do this later.\n",
    "Line 3 displays the contents of the price variable in the console at the bottom.\n",
    "\n",
    "Here’s another example using inputs:\n"
   ]
  },
  {
   "cell_type": "code",
   "execution_count": 16,
   "metadata": {},
   "outputs": [
    {
     "name": "stdout",
     "output_type": "stream",
     "text": [
      "Insert first number: 10\n",
      "Insert second number: 15\n",
      "The total is:  25.0\n"
     ]
    }
   ],
   "source": [
    "numA = input('Insert first number: ')\n",
    "numB = input('Insert second number: ')\n",
    "\n",
    "total = float(numA) + float(numB)\n",
    "\n",
    "print('The total is: ', total)"
   ]
  },
  {
   "cell_type": "markdown",
   "metadata": {},
   "source": [
    "*Note: When printing a string (text), you can use either ‘single’ quotes or “double” quotes.*\n",
    "\n",
    "Notice how numA and numB are inside the **float()** command. This is because inputs are stored as a collection of letters (known as a **string**), and we can’t do calculations on letters. \n",
    "\n",
    "So first we need to convert the letters into numbers (either integers or floating point numbers). To do this, float(numA) takes numA and converts it from a **string** into a **floating point number**.\n",
    "\n",
    "So line 3 converts *numA* and *numB* into floating point numbers, adds them together, then stores the result in the total variable.\n",
    "Line 5 then finally displays that in the console.\n"
   ]
  },
  {
   "cell_type": "markdown",
   "metadata": {},
   "source": [
    "## Tutorial 1 - VAT Calculator\n",
    "\n",
    "### Problem\n",
    "Below is a formula which is used to get the VAT amount from the price of an item. You should be able to use this to write a script, which needs to take in an input (price), calculate it, then give an output (price + VAT).\n",
    " \n",
    "VAT Calculation formula:\n",
    " \n",
    "Price * 1.125 = Price + VAT\n",
    "\n",
    "Price * 0.125 = VAT\n",
    " \n",
    "### Solution:\n"
   ]
  },
  {
   "cell_type": "code",
   "execution_count": 3,
   "metadata": {},
   "outputs": [
    {
     "name": "stdout",
     "output_type": "stream",
     "text": [
      "Enter a price: 10\n",
      "VAT is: £ 2.0\n",
      "Total is: £ 12.0\n"
     ]
    }
   ],
   "source": [
    "price = float(input('Enter a price: '))\n",
    "\n",
    "vat = price * 0.2\n",
    "total = price + vat\n",
    "\n",
    "print('VAT is: £', vat)\n",
    "print('Total is: £', total)"
   ]
  },
  {
   "cell_type": "markdown",
   "metadata": {},
   "source": [
    "## Challenge 1 - Fahrenheit to Celsius Converter\n",
    "\n",
    "Write some code which converts a temperature value from Fahrenheit to Celsius\n",
    "\n",
    "This script converts temperature from Fahrenheit to Celsius.\n",
    " \n",
    "Below you can find the formula which is used to get Celsius from Fahrenheit. There is also a Python script, which takes an input, calculates it, then gives an output (which is the answer).\n",
    " \n",
    "Fahrenheit to Celsius formula:\n",
    " \n",
    "(°F - 32) x 5/9 = °C\n",
    " \n",
    "Or, in English, first subtract 32, then multiply by 5,\n",
    "then divide by 9.\n",
    "Good luck!\n",
    "\n",
    "### Answer:\n"
   ]
  },
  {
   "cell_type": "code",
   "execution_count": 7,
   "metadata": {},
   "outputs": [
    {
     "name": "stdout",
     "output_type": "stream",
     "text": [
      "Enter a temperature in Fahrenheit: 70\n",
      "Fahrenheit: 70.0 °F\n",
      "Celsius: 21.11111111111111 °C\n"
     ]
    }
   ],
   "source": [
    "fahrenheit = float(input('Enter a temperature in Fahrenheit: '))\n",
    "celsius = (fahrenheit - 32) * (5.0 / 9.0)\n",
    "print('Fahrenheit:', fahrenheit, \"°F\")\n",
    "print('Celsius:', celsius, \"°C\")"
   ]
  },
  {
   "cell_type": "markdown",
   "metadata": {},
   "source": [
    "## Bonus - Simple Calculator"
   ]
  },
  {
   "cell_type": "code",
   "execution_count": null,
   "metadata": {},
   "outputs": [],
   "source": []
  }
 ],
 "metadata": {
  "kernelspec": {
   "display_name": "Python [default]",
   "language": "python",
   "name": "python3"
  },
  "language_info": {
   "codemirror_mode": {
    "name": "ipython",
    "version": 3
   },
   "file_extension": ".py",
   "mimetype": "text/x-python",
   "name": "python",
   "nbconvert_exporter": "python",
   "pygments_lexer": "ipython3",
   "version": "3.6.3"
  }
 },
 "nbformat": 4,
 "nbformat_minor": 2
}
