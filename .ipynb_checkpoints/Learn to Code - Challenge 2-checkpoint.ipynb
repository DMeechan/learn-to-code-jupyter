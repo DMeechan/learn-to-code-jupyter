{
 "cells": [
  {
   "cell_type": "markdown",
   "metadata": {},
   "source": [
    "<img src=\"https://upload.wikimedia.org/wikipedia/commons/5/51/IBM_logo.svg\" height=\"100\" width=\"150\">\n",
    "# Welcome to Learn to Code Part 2!\n"
   ]
  },
  {
   "cell_type": "markdown",
   "metadata": {},
   "source": [
    "## Lesson 2 - Loops\n",
    "\n",
    "### For Loops\n",
    "\n",
    "A loop runs through something multiple times. It is often \n",
    "used to repeat a chunk of code, or to go through each item in a list.\n",
    "\n",
    "It works like this: \"for each element in a list, do this\"\n",
    "\n",
    "Let's say that you have a list:\n",
    "`Apple, Dell, Asus, Samsung`\n",
    "\n",
    "As an array, this would be written as:"
   ]
  },
  {
   "cell_type": "code",
   "execution_count": 3,
   "metadata": {},
   "outputs": [],
   "source": [
    "computer_brands = ['Apple', 'Asus', 'Dell', 'Samsung']"
   ]
  },
  {
   "cell_type": "markdown",
   "metadata": {},
   "source": [
    "An array is just a group of variables. Think of it like a folder. In the example above, computer_brands is an array containing 4 Strings.\n",
    "\n",
    "Each item in the array is assigned a number, starting from 0.\n",
    "\n",
    "So to find which brand is first in the array, we do:"
   ]
  },
  {
   "cell_type": "code",
   "execution_count": 5,
   "metadata": {},
   "outputs": [
    {
     "data": {
      "text/plain": [
       "'Apple'"
      ]
     },
     "execution_count": 5,
     "metadata": {},
     "output_type": "execute_result"
    }
   ],
   "source": [
    "computer_brands[0]"
   ]
  },
  {
   "cell_type": "markdown",
   "metadata": {},
   "source": [
    "And to find the second brand in the array, we do:"
   ]
  },
  {
   "cell_type": "code",
   "execution_count": 6,
   "metadata": {},
   "outputs": [
    {
     "data": {
      "text/plain": [
       "'Asus'"
      ]
     },
     "execution_count": 6,
     "metadata": {},
     "output_type": "execute_result"
    }
   ],
   "source": [
    "computer_brands[1]"
   ]
  },
  {
   "cell_type": "markdown",
   "metadata": {},
   "source": [
    "To print every item in this array, you would need to use a for loop. A for loop runs for a set number of times - either based on the number of items in the array, or based on a number that you give it. For example:"
   ]
  },
  {
   "cell_type": "code",
   "execution_count": 7,
   "metadata": {},
   "outputs": [
    {
     "name": "stdout",
     "output_type": "stream",
     "text": [
      "Apple\n",
      "Asus\n",
      "Dell\n",
      "Samsung\n"
     ]
    }
   ],
   "source": [
    "for brands in computer_brands:\n",
    "    print(brands)"
   ]
  },
  {
   "cell_type": "markdown",
   "metadata": {},
   "source": [
    "This goes through every brand in the computer_brands array and outputs their name to the console.\n",
    "\n",
    "Another way of achieving the same result is:"
   ]
  },
  {
   "cell_type": "code",
   "execution_count": 10,
   "metadata": {},
   "outputs": [
    {
     "name": "stdout",
     "output_type": "stream",
     "text": [
      "Apple\n",
      "Asus\n",
      "Dell\n",
      "Samsung\n"
     ]
    }
   ],
   "source": [
    "number_of_computer_brands = len(computer_brands)\n",
    "for num in range(number_of_computer_brands):\n",
    "    print(computer_brands[num])"
   ]
  },
  {
   "cell_type": "markdown",
   "metadata": {},
   "source": [
    "This code is a bit more complex. It checks how many items are in computer_brands and stores that number in number_of_computer_brands. The `num` value starts at 0 and goes up to 3, printing each brand in the array as it goes through."
   ]
  },
  {
   "cell_type": "markdown",
   "metadata": {},
   "source": [
    "### Breaks\n",
    "\n",
    "A break is used to break out of a loop early, usually when a certain condition is reached. For example:"
   ]
  },
  {
   "cell_type": "code",
   "execution_count": 14,
   "metadata": {},
   "outputs": [
    {
     "name": "stdout",
     "output_type": "stream",
     "text": [
      "1\n",
      "2\n"
     ]
    }
   ],
   "source": [
    "for count in range(1, 10):\n",
    "    if count == 3:\n",
    "        break\n",
    "    print(count)"
   ]
  },
  {
   "cell_type": "markdown",
   "metadata": {},
   "source": [
    "This will attempt to loop from numbers 1 to 10 *(1, 2, 3, 4, 5, 6, 7, 8, 9)*. \n",
    "\n",
    "But when it reaches number 3, it will exit out of the loop early, so it only gets to output 1 and 2."
   ]
  },
  {
   "cell_type": "markdown",
   "metadata": {},
   "source": [
    "### While loop\n",
    "\n",
    "A ‘while’ loop tells the computer to keep repeating a chunk of code until a certain condition is met.\n",
    "\n",
    "For example, it works like this: \"while abc is true, do xyz\"\n",
    "\n",
    "Now we’ll print out the computer_brands array using a while loop:"
   ]
  },
  {
   "cell_type": "code",
   "execution_count": 18,
   "metadata": {},
   "outputs": [
    {
     "name": "stdout",
     "output_type": "stream",
     "text": [
      "Apple\n",
      "Asus\n",
      "Dell\n",
      "Samsung\n"
     ]
    }
   ],
   "source": [
    "computer_brands = [\"Apple\", \"Asus\", \"Dell\", \"Samsung\"]\n",
    "counter = 0\n",
    "while counter < len(computer_brands):\n",
    "    print(computer_brands[counter])\n",
    "    counter = counter + 1"
   ]
  },
  {
   "cell_type": "markdown",
   "metadata": {},
   "source": [
    "We know that computer_brands contains 4 items, so `len(computer_brands)` will give us 4. Therefore, the while loop will keep running lines 3 and 4 while counter < 4. \n",
    "\n",
    "So we keep adding 1 to the counter (line 5) and when it becomes equal to or greater than 4, the while loop will end and stop repeating lines 3 and 4."
   ]
  },
  {
   "cell_type": "markdown",
   "metadata": {},
   "source": [
    "## Tutorial - Lowercase to uppercase\n",
    "\n",
    "In this tutorial, it shows how to convert any lowercase letters to uppercase, and vice-versa. The way it will work is as follows:\n",
    "\n",
    "A variable containing the string “pYTHON” will be created. This string will then be put through a for loop, and will check for lowercase letters. If a letter is lowercase, it will be changed to uppercase. If it is uppercase, it will be changed to lowercase.\n",
    "\n",
    "In the block of code below, the function “islower” is used to check if a character is lowercase. It then converts the letter to uppercase (using the upper() function) and prints the letter to the console.\n",
    "\n",
    "Case converter:"
   ]
  },
  {
   "cell_type": "code",
   "execution_count": 24,
   "metadata": {},
   "outputs": [
    {
     "name": "stdout",
     "output_type": "stream",
     "text": [
      "Input: pYTHON\n",
      "Output: Python\n"
     ]
    }
   ],
   "source": [
    "def change_caps(string):\n",
    "    output = \"\"\n",
    "    for letter in string:\n",
    "# Check if letter is lower case\n",
    "        if letter.islower():\n",
    "            output = output + letter.upper()\n",
    "        else:\n",
    "# Letter must be upper case, so we’ll convert it to lower case\n",
    "            output = output + letter.lower()\n",
    "    print('Input:', string)\n",
    "    print('Output:', output)\n",
    "change_caps(\"pYTHON\")"
   ]
  },
  {
   "cell_type": "markdown",
   "metadata": {},
   "source": [
    "## Challenge 2\n",
    "\n",
    "The script below takes a string, then reverses its order.\n",
    "\n",
    "Below you can find pseudo code which will help you with creating this script. This code will need to take a string, pass it through a loop, and reverse the order of the characters in that string.\n",
    "\n",
    "Reverse a String pseudo code:"
   ]
  },
  {
   "cell_type": "code",
   "execution_count": 31,
   "metadata": {},
   "outputs": [
    {
     "name": "stdout",
     "output_type": "stream",
     "text": [
      "god\n"
     ]
    }
   ],
   "source": [
    "def reverse(text):\n",
    "    output = \"\"\n",
    "    for i in range (1, len(text) + 1):\n",
    "        output += text[len(text) - i]\n",
    "    return output\n",
    "print(reverse('dog'))"
   ]
  },
  {
   "cell_type": "code",
   "execution_count": null,
   "metadata": {},
   "outputs": [],
   "source": []
  }
 ],
 "metadata": {
  "kernelspec": {
   "display_name": "Python [default]",
   "language": "python",
   "name": "python3"
  },
  "language_info": {
   "codemirror_mode": {
    "name": "ipython",
    "version": 3
   },
   "file_extension": ".py",
   "mimetype": "text/x-python",
   "name": "python",
   "nbconvert_exporter": "python",
   "pygments_lexer": "ipython3",
   "version": "3.6.3"
  }
 },
 "nbformat": 4,
 "nbformat_minor": 2
}
